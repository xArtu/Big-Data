{
  "cells": [
    {
      "cell_type": "markdown",
      "metadata": {
        "id": "FIzICjaph_Wy"
      },
      "source": [
        "<a align=\"center\" href=\"https://ultralytics.com/hub\" target=\"_blank\">\n",
        "<img width=\"1024\", src=\"https://github.com/ultralytics/assets/raw/main/im/ultralytics-hub.png\"></a>\n",
        "\n",
        "<div align=\"center\">\n",
        "\n",
        "[中文](https://docs.ultralytics.com/zh/hub/) | [한국어](https://docs.ultralytics.com/ko/hub/) | [日本語](https://docs.ultralytics.com/ja/hub/) | [Русский](https://docs.ultralytics.com/ru/hub/) | [Deutsch](https://docs.ultralytics.com/de/hub/) | [Français](https://docs.ultralytics.com/fr/hub/) | [Español](https://docs.ultralytics.com/es/hub/) | [Português](https://docs.ultralytics.com/pt/hub/) | [Türkçe](https://docs.ultralytics.com/tr/hub/) | [Tiếng Việt](https://docs.ultralytics.com/vi/hub/) | [العربية](https://docs.ultralytics.com/ar/hub/)\n",
        "\n",
        "  <a href=\"https://github.com/ultralytics/hub/actions/workflows/ci.yml\"><img src=\"https://github.com/ultralytics/hub/actions/workflows/ci.yml/badge.svg\" alt=\"CI CPU\"></a>\n",
        "  <a href=\"https://colab.research.google.com/github/ultralytics/hub/blob/main/hub.ipynb\"><img src=\"https://colab.research.google.com/assets/colab-badge.svg\" alt=\"Open In Colab\"></a>\n",
        "\n",
        "  <a href=\"https://ultralytics.com/discord\"><img alt=\"Discord\" src=\"https://img.shields.io/discord/1089800235347353640?logo=discord&logoColor=white&label=Discord&color=blue\"></a>\n",
        "  <a href=\"https://community.ultralytics.com\"><img alt=\"Ultralytics Forums\" src=\"https://img.shields.io/discourse/users?server=https%3A%2F%2Fcommunity.ultralytics.com&logo=discourse&label=Forums&color=blue\"></a>\n",
        "  <a href=\"https://reddit.com/r/ultralytics\"><img alt=\"Ultralytics Reddit\" src=\"https://img.shields.io/reddit/subreddit-subscribers/ultralytics?style=flat&logo=reddit&logoColor=white&label=Reddit&color=blue\"></a>\n",
        "\n",
        "Welcome to the [Ultralytics](https://ultralytics.com/) HUB notebook!\n",
        "\n",
        "This notebook allows you to train Ultralytics [YOLO](https://github.com/ultralytics/ultralytics) 🚀 models using [HUB](https://hub.ultralytics.com/). Please browse the HUB <a href=\"https://docs.ultralytics.com/hub/\">Docs</a> for details, raise an issue on <a href=\"https://github.com/ultralytics/hub/issues/new/choose\">GitHub</a> for support, and join our <a href=\"https://ultralytics.com/discord\">Discord</a> community for questions and discussions!\n",
        "</div>"
      ]
    },
    {
      "cell_type": "markdown",
      "metadata": {
        "id": "eRQ2ow94MiOv"
      },
      "source": [
        "# Setup\n",
        "\n",
        "Pip install `ultralytics` and [dependencies](https://github.com/ultralytics/ultralytics/blob/main/pyproject.toml) and check software and hardware.\n",
        "\n",
        "[![PyPI - Version](https://img.shields.io/pypi/v/ultralytics?logo=pypi&logoColor=white)](https://pypi.org/project/ultralytics/) [![Downloads](https://static.pepy.tech/badge/ultralytics)](https://www.pepy.tech/projects/ultralytics) [![PyPI - Python Version](https://img.shields.io/pypi/pyversions/ultralytics?logo=python&logoColor=gold)](https://pypi.org/project/ultralytics/)"
      ]
    },
    {
      "cell_type": "code",
      "execution_count": null,
      "metadata": {
        "colab": {
          "base_uri": "https://localhost:8080/"
        },
        "id": "FyDnXd-n4c7Y",
        "outputId": "bb836f79-9154-47c6-abc7-f1acd912ff3a"
      },
      "outputs": [
        {
          "output_type": "stream",
          "name": "stdout",
          "text": [
            "Ultralytics 8.3.99 🚀 Python-3.11.11 torch-2.6.0+cu124 CUDA:0 (Tesla T4, 15095MiB)\n",
            "Setup complete ✅ (2 CPUs, 12.7 GB RAM, 39.6/112.6 GB disk)\n"
          ]
        }
      ],
      "source": [
        "%pip install ultralytics\n",
        "from ultralytics import YOLO, checks, hub\n",
        "\n",
        "checks()  # Verify system setup for Ultralytics training"
      ]
    },
    {
      "cell_type": "markdown",
      "metadata": {
        "id": "cQ9BwaAqxAm4"
      },
      "source": [
        "# Start\n",
        "\n",
        "⚡ Login with your API key, load your YOLO 🚀 model, and start training in 3 lines of code!"
      ]
    },
    {
      "cell_type": "code",
      "execution_count": null,
      "metadata": {
        "id": "XSlZaJ9Iw_iZ"
      },
      "outputs": [],
      "source": [
        "# Login to HUB using your API key (https://hub.ultralytics.com/settings?tab=api+keys)\n",
        "hub.login(\"YOUR_API_KEY\")\n",
        "\n",
        "# Load your model from HUB (replace 'YOUR_MODEL_ID' with your model ID)\n",
        "model = YOLO(\"https://hub.ultralytics.com/models/YOUR_MODEL_ID\")\n",
        "\n",
        "# Train the model\n",
        "results = model.train()"
      ]
    },
    {
      "cell_type": "markdown",
      "metadata": {
        "id": "edc40fef"
      },
      "source": [
        "# Task\n",
        "Genera un programa en Python que utilice el modelo \"best.pt\" para realizar segmentación de instancias en una imagen o video. El programa debe asignar un ID único a cada instancia segmentada, calcular el área de la bounding box de cada instancia e identificar y resaltar la instancia con la bounding box más grande."
      ]
    },
    {
      "cell_type": "markdown",
      "metadata": {
        "id": "983708c8"
      },
      "source": [
        "## Cargar el modelo\n",
        "\n",
        "### Subtask:\n",
        "Cargar el modelo entrenado `best.pt`.\n"
      ]
    },
    {
      "cell_type": "markdown",
      "metadata": {
        "id": "0c8854ee"
      },
      "source": [
        "**Reasoning**:\n",
        "Import the YOLO class and load the 'best.pt' model.\n",
        "\n"
      ]
    },
    {
      "cell_type": "code",
      "source": [
        "!pip install Ultralytics"
      ],
      "metadata": {
        "colab": {
          "base_uri": "https://localhost:8080/"
        },
        "id": "7oRbNY9Ey9_6",
        "outputId": "5bdf4805-d5de-4c22-e6fc-ed4b4f5a3e09"
      },
      "execution_count": 2,
      "outputs": [
        {
          "output_type": "stream",
          "name": "stdout",
          "text": [
            "Collecting Ultralytics\n",
            "  Downloading ultralytics-8.3.174-py3-none-any.whl.metadata (37 kB)\n",
            "Requirement already satisfied: numpy>=1.23.0 in /usr/local/lib/python3.11/dist-packages (from Ultralytics) (2.0.2)\n",
            "Requirement already satisfied: matplotlib>=3.3.0 in /usr/local/lib/python3.11/dist-packages (from Ultralytics) (3.10.0)\n",
            "Requirement already satisfied: opencv-python>=4.6.0 in /usr/local/lib/python3.11/dist-packages (from Ultralytics) (4.12.0.88)\n",
            "Requirement already satisfied: pillow>=7.1.2 in /usr/local/lib/python3.11/dist-packages (from Ultralytics) (11.3.0)\n",
            "Requirement already satisfied: pyyaml>=5.3.1 in /usr/local/lib/python3.11/dist-packages (from Ultralytics) (6.0.2)\n",
            "Requirement already satisfied: requests>=2.23.0 in /usr/local/lib/python3.11/dist-packages (from Ultralytics) (2.32.3)\n",
            "Requirement already satisfied: scipy>=1.4.1 in /usr/local/lib/python3.11/dist-packages (from Ultralytics) (1.16.0)\n",
            "Requirement already satisfied: torch>=1.8.0 in /usr/local/lib/python3.11/dist-packages (from Ultralytics) (2.6.0+cu124)\n",
            "Requirement already satisfied: torchvision>=0.9.0 in /usr/local/lib/python3.11/dist-packages (from Ultralytics) (0.21.0+cu124)\n",
            "Requirement already satisfied: tqdm>=4.64.0 in /usr/local/lib/python3.11/dist-packages (from Ultralytics) (4.67.1)\n",
            "Requirement already satisfied: psutil in /usr/local/lib/python3.11/dist-packages (from Ultralytics) (5.9.5)\n",
            "Requirement already satisfied: py-cpuinfo in /usr/local/lib/python3.11/dist-packages (from Ultralytics) (9.0.0)\n",
            "Requirement already satisfied: pandas>=1.1.4 in /usr/local/lib/python3.11/dist-packages (from Ultralytics) (2.2.2)\n",
            "Collecting ultralytics-thop>=2.0.0 (from Ultralytics)\n",
            "  Downloading ultralytics_thop-2.0.15-py3-none-any.whl.metadata (14 kB)\n",
            "Requirement already satisfied: contourpy>=1.0.1 in /usr/local/lib/python3.11/dist-packages (from matplotlib>=3.3.0->Ultralytics) (1.3.2)\n",
            "Requirement already satisfied: cycler>=0.10 in /usr/local/lib/python3.11/dist-packages (from matplotlib>=3.3.0->Ultralytics) (0.12.1)\n",
            "Requirement already satisfied: fonttools>=4.22.0 in /usr/local/lib/python3.11/dist-packages (from matplotlib>=3.3.0->Ultralytics) (4.59.0)\n",
            "Requirement already satisfied: kiwisolver>=1.3.1 in /usr/local/lib/python3.11/dist-packages (from matplotlib>=3.3.0->Ultralytics) (1.4.8)\n",
            "Requirement already satisfied: packaging>=20.0 in /usr/local/lib/python3.11/dist-packages (from matplotlib>=3.3.0->Ultralytics) (25.0)\n",
            "Requirement already satisfied: pyparsing>=2.3.1 in /usr/local/lib/python3.11/dist-packages (from matplotlib>=3.3.0->Ultralytics) (3.2.3)\n",
            "Requirement already satisfied: python-dateutil>=2.7 in /usr/local/lib/python3.11/dist-packages (from matplotlib>=3.3.0->Ultralytics) (2.9.0.post0)\n",
            "Requirement already satisfied: pytz>=2020.1 in /usr/local/lib/python3.11/dist-packages (from pandas>=1.1.4->Ultralytics) (2025.2)\n",
            "Requirement already satisfied: tzdata>=2022.7 in /usr/local/lib/python3.11/dist-packages (from pandas>=1.1.4->Ultralytics) (2025.2)\n",
            "Requirement already satisfied: charset-normalizer<4,>=2 in /usr/local/lib/python3.11/dist-packages (from requests>=2.23.0->Ultralytics) (3.4.2)\n",
            "Requirement already satisfied: idna<4,>=2.5 in /usr/local/lib/python3.11/dist-packages (from requests>=2.23.0->Ultralytics) (3.10)\n",
            "Requirement already satisfied: urllib3<3,>=1.21.1 in /usr/local/lib/python3.11/dist-packages (from requests>=2.23.0->Ultralytics) (2.5.0)\n",
            "Requirement already satisfied: certifi>=2017.4.17 in /usr/local/lib/python3.11/dist-packages (from requests>=2.23.0->Ultralytics) (2025.7.14)\n",
            "Requirement already satisfied: filelock in /usr/local/lib/python3.11/dist-packages (from torch>=1.8.0->Ultralytics) (3.18.0)\n",
            "Requirement already satisfied: typing-extensions>=4.10.0 in /usr/local/lib/python3.11/dist-packages (from torch>=1.8.0->Ultralytics) (4.14.1)\n",
            "Requirement already satisfied: networkx in /usr/local/lib/python3.11/dist-packages (from torch>=1.8.0->Ultralytics) (3.5)\n",
            "Requirement already satisfied: jinja2 in /usr/local/lib/python3.11/dist-packages (from torch>=1.8.0->Ultralytics) (3.1.6)\n",
            "Requirement already satisfied: fsspec in /usr/local/lib/python3.11/dist-packages (from torch>=1.8.0->Ultralytics) (2025.3.0)\n",
            "Collecting nvidia-cuda-nvrtc-cu12==12.4.127 (from torch>=1.8.0->Ultralytics)\n",
            "  Downloading nvidia_cuda_nvrtc_cu12-12.4.127-py3-none-manylinux2014_x86_64.whl.metadata (1.5 kB)\n",
            "Collecting nvidia-cuda-runtime-cu12==12.4.127 (from torch>=1.8.0->Ultralytics)\n",
            "  Downloading nvidia_cuda_runtime_cu12-12.4.127-py3-none-manylinux2014_x86_64.whl.metadata (1.5 kB)\n",
            "Collecting nvidia-cuda-cupti-cu12==12.4.127 (from torch>=1.8.0->Ultralytics)\n",
            "  Downloading nvidia_cuda_cupti_cu12-12.4.127-py3-none-manylinux2014_x86_64.whl.metadata (1.6 kB)\n",
            "Collecting nvidia-cudnn-cu12==9.1.0.70 (from torch>=1.8.0->Ultralytics)\n",
            "  Downloading nvidia_cudnn_cu12-9.1.0.70-py3-none-manylinux2014_x86_64.whl.metadata (1.6 kB)\n",
            "Collecting nvidia-cublas-cu12==12.4.5.8 (from torch>=1.8.0->Ultralytics)\n",
            "  Downloading nvidia_cublas_cu12-12.4.5.8-py3-none-manylinux2014_x86_64.whl.metadata (1.5 kB)\n",
            "Collecting nvidia-cufft-cu12==11.2.1.3 (from torch>=1.8.0->Ultralytics)\n",
            "  Downloading nvidia_cufft_cu12-11.2.1.3-py3-none-manylinux2014_x86_64.whl.metadata (1.5 kB)\n",
            "Collecting nvidia-curand-cu12==10.3.5.147 (from torch>=1.8.0->Ultralytics)\n",
            "  Downloading nvidia_curand_cu12-10.3.5.147-py3-none-manylinux2014_x86_64.whl.metadata (1.5 kB)\n",
            "Collecting nvidia-cusolver-cu12==11.6.1.9 (from torch>=1.8.0->Ultralytics)\n",
            "  Downloading nvidia_cusolver_cu12-11.6.1.9-py3-none-manylinux2014_x86_64.whl.metadata (1.6 kB)\n",
            "Collecting nvidia-cusparse-cu12==12.3.1.170 (from torch>=1.8.0->Ultralytics)\n",
            "  Downloading nvidia_cusparse_cu12-12.3.1.170-py3-none-manylinux2014_x86_64.whl.metadata (1.6 kB)\n",
            "Requirement already satisfied: nvidia-cusparselt-cu12==0.6.2 in /usr/local/lib/python3.11/dist-packages (from torch>=1.8.0->Ultralytics) (0.6.2)\n",
            "Requirement already satisfied: nvidia-nccl-cu12==2.21.5 in /usr/local/lib/python3.11/dist-packages (from torch>=1.8.0->Ultralytics) (2.21.5)\n",
            "Requirement already satisfied: nvidia-nvtx-cu12==12.4.127 in /usr/local/lib/python3.11/dist-packages (from torch>=1.8.0->Ultralytics) (12.4.127)\n",
            "Collecting nvidia-nvjitlink-cu12==12.4.127 (from torch>=1.8.0->Ultralytics)\n",
            "  Downloading nvidia_nvjitlink_cu12-12.4.127-py3-none-manylinux2014_x86_64.whl.metadata (1.5 kB)\n",
            "Requirement already satisfied: triton==3.2.0 in /usr/local/lib/python3.11/dist-packages (from torch>=1.8.0->Ultralytics) (3.2.0)\n",
            "Requirement already satisfied: sympy==1.13.1 in /usr/local/lib/python3.11/dist-packages (from torch>=1.8.0->Ultralytics) (1.13.1)\n",
            "Requirement already satisfied: mpmath<1.4,>=1.1.0 in /usr/local/lib/python3.11/dist-packages (from sympy==1.13.1->torch>=1.8.0->Ultralytics) (1.3.0)\n",
            "Requirement already satisfied: six>=1.5 in /usr/local/lib/python3.11/dist-packages (from python-dateutil>=2.7->matplotlib>=3.3.0->Ultralytics) (1.17.0)\n",
            "Requirement already satisfied: MarkupSafe>=2.0 in /usr/local/lib/python3.11/dist-packages (from jinja2->torch>=1.8.0->Ultralytics) (3.0.2)\n",
            "Downloading ultralytics-8.3.174-py3-none-any.whl (1.0 MB)\n",
            "\u001b[2K   \u001b[90m━━━━━━━━━━━━━━━━━━━━━━━━━━━━━━━━━━━━━━━━\u001b[0m \u001b[32m1.0/1.0 MB\u001b[0m \u001b[31m17.5 MB/s\u001b[0m eta \u001b[36m0:00:00\u001b[0m\n",
            "\u001b[?25hDownloading nvidia_cublas_cu12-12.4.5.8-py3-none-manylinux2014_x86_64.whl (363.4 MB)\n",
            "\u001b[2K   \u001b[90m━━━━━━━━━━━━━━━━━━━━━━━━━━━━━━━━━━━━━━━━\u001b[0m \u001b[32m363.4/363.4 MB\u001b[0m \u001b[31m4.7 MB/s\u001b[0m eta \u001b[36m0:00:00\u001b[0m\n",
            "\u001b[?25hDownloading nvidia_cuda_cupti_cu12-12.4.127-py3-none-manylinux2014_x86_64.whl (13.8 MB)\n",
            "\u001b[2K   \u001b[90m━━━━━━━━━━━━━━━━━━━━━━━━━━━━━━━━━━━━━━━━\u001b[0m \u001b[32m13.8/13.8 MB\u001b[0m \u001b[31m67.4 MB/s\u001b[0m eta \u001b[36m0:00:00\u001b[0m\n",
            "\u001b[?25hDownloading nvidia_cuda_nvrtc_cu12-12.4.127-py3-none-manylinux2014_x86_64.whl (24.6 MB)\n",
            "\u001b[2K   \u001b[90m━━━━━━━━━━━━━━━━━━━━━━━━━━━━━━━━━━━━━━━━\u001b[0m \u001b[32m24.6/24.6 MB\u001b[0m \u001b[31m36.7 MB/s\u001b[0m eta \u001b[36m0:00:00\u001b[0m\n",
            "\u001b[?25hDownloading nvidia_cuda_runtime_cu12-12.4.127-py3-none-manylinux2014_x86_64.whl (883 kB)\n",
            "\u001b[2K   \u001b[90m━━━━━━━━━━━━━━━━━━━━━━━━━━━━━━━━━━━━━━━━\u001b[0m \u001b[32m883.7/883.7 kB\u001b[0m \u001b[31m45.7 MB/s\u001b[0m eta \u001b[36m0:00:00\u001b[0m\n",
            "\u001b[?25hDownloading nvidia_cudnn_cu12-9.1.0.70-py3-none-manylinux2014_x86_64.whl (664.8 MB)\n",
            "\u001b[2K   \u001b[90m━━━━━━━━━━━━━━━━━━━━━━━━━━━━━━━━━━━━━━━━\u001b[0m \u001b[32m664.8/664.8 MB\u001b[0m \u001b[31m2.1 MB/s\u001b[0m eta \u001b[36m0:00:00\u001b[0m\n",
            "\u001b[?25hDownloading nvidia_cufft_cu12-11.2.1.3-py3-none-manylinux2014_x86_64.whl (211.5 MB)\n",
            "\u001b[2K   \u001b[90m━━━━━━━━━━━━━━━━━━━━━━━━━━━━━━━━━━━━━━━━\u001b[0m \u001b[32m211.5/211.5 MB\u001b[0m \u001b[31m5.3 MB/s\u001b[0m eta \u001b[36m0:00:00\u001b[0m\n",
            "\u001b[?25hDownloading nvidia_curand_cu12-10.3.5.147-py3-none-manylinux2014_x86_64.whl (56.3 MB)\n",
            "\u001b[2K   \u001b[90m━━━━━━━━━━━━━━━━━━━━━━━━━━━━━━━━━━━━━━━━\u001b[0m \u001b[32m56.3/56.3 MB\u001b[0m \u001b[31m18.3 MB/s\u001b[0m eta \u001b[36m0:00:00\u001b[0m\n",
            "\u001b[?25hDownloading nvidia_cusolver_cu12-11.6.1.9-py3-none-manylinux2014_x86_64.whl (127.9 MB)\n",
            "\u001b[2K   \u001b[90m━━━━━━━━━━━━━━━━━━━━━━━━━━━━━━━━━━━━━━━━\u001b[0m \u001b[32m127.9/127.9 MB\u001b[0m \u001b[31m7.4 MB/s\u001b[0m eta \u001b[36m0:00:00\u001b[0m\n",
            "\u001b[?25hDownloading nvidia_cusparse_cu12-12.3.1.170-py3-none-manylinux2014_x86_64.whl (207.5 MB)\n",
            "\u001b[2K   \u001b[90m━━━━━━━━━━━━━━━━━━━━━━━━━━━━━━━━━━━━━━━━\u001b[0m \u001b[32m207.5/207.5 MB\u001b[0m \u001b[31m5.1 MB/s\u001b[0m eta \u001b[36m0:00:00\u001b[0m\n",
            "\u001b[?25hDownloading nvidia_nvjitlink_cu12-12.4.127-py3-none-manylinux2014_x86_64.whl (21.1 MB)\n",
            "\u001b[2K   \u001b[90m━━━━━━━━━━━━━━━━━━━━━━━━━━━━━━━━━━━━━━━━\u001b[0m \u001b[32m21.1/21.1 MB\u001b[0m \u001b[31m38.7 MB/s\u001b[0m eta \u001b[36m0:00:00\u001b[0m\n",
            "\u001b[?25hDownloading ultralytics_thop-2.0.15-py3-none-any.whl (28 kB)\n",
            "Installing collected packages: nvidia-nvjitlink-cu12, nvidia-curand-cu12, nvidia-cufft-cu12, nvidia-cuda-runtime-cu12, nvidia-cuda-nvrtc-cu12, nvidia-cuda-cupti-cu12, nvidia-cublas-cu12, nvidia-cusparse-cu12, nvidia-cudnn-cu12, nvidia-cusolver-cu12, ultralytics-thop, Ultralytics\n",
            "  Attempting uninstall: nvidia-nvjitlink-cu12\n",
            "    Found existing installation: nvidia-nvjitlink-cu12 12.5.82\n",
            "    Uninstalling nvidia-nvjitlink-cu12-12.5.82:\n",
            "      Successfully uninstalled nvidia-nvjitlink-cu12-12.5.82\n",
            "  Attempting uninstall: nvidia-curand-cu12\n",
            "    Found existing installation: nvidia-curand-cu12 10.3.6.82\n",
            "    Uninstalling nvidia-curand-cu12-10.3.6.82:\n",
            "      Successfully uninstalled nvidia-curand-cu12-10.3.6.82\n",
            "  Attempting uninstall: nvidia-cufft-cu12\n",
            "    Found existing installation: nvidia-cufft-cu12 11.2.3.61\n",
            "    Uninstalling nvidia-cufft-cu12-11.2.3.61:\n",
            "      Successfully uninstalled nvidia-cufft-cu12-11.2.3.61\n",
            "  Attempting uninstall: nvidia-cuda-runtime-cu12\n",
            "    Found existing installation: nvidia-cuda-runtime-cu12 12.5.82\n",
            "    Uninstalling nvidia-cuda-runtime-cu12-12.5.82:\n",
            "      Successfully uninstalled nvidia-cuda-runtime-cu12-12.5.82\n",
            "  Attempting uninstall: nvidia-cuda-nvrtc-cu12\n",
            "    Found existing installation: nvidia-cuda-nvrtc-cu12 12.5.82\n",
            "    Uninstalling nvidia-cuda-nvrtc-cu12-12.5.82:\n",
            "      Successfully uninstalled nvidia-cuda-nvrtc-cu12-12.5.82\n",
            "  Attempting uninstall: nvidia-cuda-cupti-cu12\n",
            "    Found existing installation: nvidia-cuda-cupti-cu12 12.5.82\n",
            "    Uninstalling nvidia-cuda-cupti-cu12-12.5.82:\n",
            "      Successfully uninstalled nvidia-cuda-cupti-cu12-12.5.82\n",
            "  Attempting uninstall: nvidia-cublas-cu12\n",
            "    Found existing installation: nvidia-cublas-cu12 12.5.3.2\n",
            "    Uninstalling nvidia-cublas-cu12-12.5.3.2:\n",
            "      Successfully uninstalled nvidia-cublas-cu12-12.5.3.2\n",
            "  Attempting uninstall: nvidia-cusparse-cu12\n",
            "    Found existing installation: nvidia-cusparse-cu12 12.5.1.3\n",
            "    Uninstalling nvidia-cusparse-cu12-12.5.1.3:\n",
            "      Successfully uninstalled nvidia-cusparse-cu12-12.5.1.3\n",
            "  Attempting uninstall: nvidia-cudnn-cu12\n",
            "    Found existing installation: nvidia-cudnn-cu12 9.3.0.75\n",
            "    Uninstalling nvidia-cudnn-cu12-9.3.0.75:\n",
            "      Successfully uninstalled nvidia-cudnn-cu12-9.3.0.75\n",
            "  Attempting uninstall: nvidia-cusolver-cu12\n",
            "    Found existing installation: nvidia-cusolver-cu12 11.6.3.83\n",
            "    Uninstalling nvidia-cusolver-cu12-11.6.3.83:\n",
            "      Successfully uninstalled nvidia-cusolver-cu12-11.6.3.83\n",
            "Successfully installed Ultralytics-8.3.174 nvidia-cublas-cu12-12.4.5.8 nvidia-cuda-cupti-cu12-12.4.127 nvidia-cuda-nvrtc-cu12-12.4.127 nvidia-cuda-runtime-cu12-12.4.127 nvidia-cudnn-cu12-9.1.0.70 nvidia-cufft-cu12-11.2.1.3 nvidia-curand-cu12-10.3.5.147 nvidia-cusolver-cu12-11.6.1.9 nvidia-cusparse-cu12-12.3.1.170 nvidia-nvjitlink-cu12-12.4.127 ultralytics-thop-2.0.15\n"
          ]
        }
      ]
    },
    {
      "cell_type": "code",
      "metadata": {
        "id": "b23354e8"
      },
      "source": [
        "from ultralytics import YOLO\n",
        "\n",
        "# Load the trained model\n",
        "model = YOLO(\"best.pt\")"
      ],
      "execution_count": 4,
      "outputs": []
    },
    {
      "cell_type": "markdown",
      "metadata": {
        "id": "12e8a7b2"
      },
      "source": [
        "## Realizar inferencia\n",
        "\n",
        "### Subtask:\n",
        "Realizar la inferencia en la imagen o video de entrada para obtener las segmentaciones y bounding boxes.\n"
      ]
    },
    {
      "cell_type": "markdown",
      "metadata": {
        "id": "616b692c"
      },
      "source": [
        "**Reasoning**:\n",
        "Define the input source path and perform inference using the loaded model to get segmentation masks and bounding boxes.\n",
        "\n"
      ]
    },
    {
      "cell_type": "code",
      "metadata": {
        "colab": {
          "base_uri": "https://localhost:8080/"
        },
        "id": "e041e16d",
        "outputId": "dc37a0ac-109a-40e4-a487-bd62344d4849"
      },
      "source": [
        "# Define the path to the input image or video\n",
        "input_source = \"/content/1331172.jpeg\"  # Replace with your image or video path\n",
        "\n",
        "# Perform inference on the input source\n",
        "results = model.predict(input_source)"
      ],
      "execution_count": 6,
      "outputs": [
        {
          "output_type": "stream",
          "name": "stdout",
          "text": [
            "\n",
            "image 1/1 /content/1331172.jpeg: 384x640 9 rojos, 13.9ms\n",
            "Speed: 2.4ms preprocess, 13.9ms inference, 2.6ms postprocess per image at shape (1, 3, 384, 640)\n"
          ]
        }
      ]
    },
    {
      "cell_type": "markdown",
      "metadata": {
        "id": "ba38b7c4"
      },
      "source": [
        "## Procesar resultados\n",
        "\n",
        "### Subtask:\n",
        "Iterar sobre los resultados de la inferencia para obtener las máscaras de segmentación, bounding boxes y asignar un ID único a cada instancia.\n"
      ]
    },
    {
      "cell_type": "markdown",
      "metadata": {
        "id": "dadbf35e"
      },
      "source": [
        "**Reasoning**:\n",
        "Iterate over the inference results to extract segmentation masks and bounding boxes, assign a unique ID to each instance, and store the information in a list of dictionaries.\n",
        "\n"
      ]
    },
    {
      "cell_type": "code",
      "metadata": {
        "colab": {
          "base_uri": "https://localhost:8080/"
        },
        "id": "848f1401",
        "outputId": "70f489ab-a2c8-4ffa-a28c-cd3905872c01"
      },
      "source": [
        "segmented_instances = []\n",
        "instance_id_counter = 0\n",
        "\n",
        "for result in results:\n",
        "    if result.masks is not None:\n",
        "        for mask, box in zip(result.masks.xy, result.boxes.xyxy):\n",
        "            # Assign a unique ID to the current instance\n",
        "            instance_id = instance_id_counter\n",
        "            instance_id_counter += 1\n",
        "\n",
        "            # Store the instance information\n",
        "            instance_info = {\n",
        "                \"instance_id\": instance_id,\n",
        "                \"bbox\": box.tolist(),  # Convert bounding box tensor to list\n",
        "                \"segmentation_mask\": mask.tolist(),  # Convert mask tensor to list\n",
        "            }\n",
        "            segmented_instances.append(instance_info)\n",
        "\n",
        "# Display the first few processed instances to verify\n",
        "if segmented_instances:\n",
        "    print(\"Processed segmented instances (first 5):\")\n",
        "    for i in range(min(5, len(segmented_instances))):\n",
        "        print(segmented_instances[i])\n",
        "else:\n",
        "    print(\"No segmented instances found.\")\n"
      ],
      "execution_count": 7,
      "outputs": [
        {
          "output_type": "stream",
          "name": "stdout",
          "text": [
            "Processed segmented instances (first 5):\n",
            "{'instance_id': 0, 'bbox': [440.67047119140625, 301.27587890625, 591.7528076171875, 448.9609375], 'segmentation_mask': [[488.46875, 301.4375], [488.46875, 306.03125], [485.40625, 309.09375], [483.875, 309.09375], [482.34375, 310.625], [480.8125, 310.625], [479.28125, 312.15625], [477.75, 312.15625], [476.21875, 313.6875], [474.6875, 313.6875], [470.09375, 318.28125], [468.5625, 318.28125], [460.90625, 325.9375], [460.90625, 327.46875], [454.78125, 333.59375], [454.78125, 335.125], [451.71875, 338.1875], [451.71875, 339.71875], [448.65625, 342.78125], [448.65625, 344.3125], [445.59375, 347.375], [445.59375, 350.4375], [442.53125, 353.5], [437.9375, 353.5], [437.9375, 400.96875], [442.53125, 400.96875], [445.59375, 404.03125], [445.59375, 407.09375], [447.125, 408.625], [447.125, 410.15625], [448.65625, 411.6875], [448.65625, 413.21875], [451.71875, 416.28125], [451.71875, 417.8125], [467.03125, 433.1250305175781], [468.5625, 433.1250305175781], [471.625, 436.1875305175781], [473.15625, 436.1875305175781], [474.6875, 437.7187805175781], [476.21875, 437.7187805175781], [479.28125, 440.7812805175781], [482.34375, 440.7812805175781], [483.875, 442.3125305175781], [486.9375, 442.3125305175781], [488.46875, 443.8437805175781], [491.53125, 443.8437805175781], [493.0625, 445.3750305175781], [496.125, 445.3750305175781], [497.65625, 446.9062805175781], [499.1875, 446.9062805175781], [500.71875, 448.4375305175781], [500.71875, 453.0312805175781], [516.03125, 453.0312805175781], [516.03125, 448.4375305175781], [517.5625, 446.9062805175781], [522.15625, 446.9062805175781], [523.6875, 445.3750305175781], [526.75, 445.3750305175781], [528.28125, 443.8437805175781], [532.875, 443.8437805175781], [534.40625, 442.3125305175781], [539.0, 442.3125305175781], [540.53125, 440.7812805175781], [543.59375, 440.7812805175781], [545.125, 439.2500305175781], [546.65625, 439.2500305175781], [548.1875, 437.7187805175781], [549.71875, 437.7187805175781], [552.78125, 434.6562805175781], [554.3125, 434.6562805175781], [555.84375, 433.1250305175781], [557.375, 433.1250305175781], [561.96875, 428.5312805175781], [563.5, 428.5312805175781], [566.5625, 425.4687805175781], [566.5625, 423.9375305175781], [569.625, 420.8750305175781], [569.625, 419.3437805175781], [572.6875, 416.28125], [572.6875, 414.75], [577.28125, 410.15625], [577.28125, 405.5625], [578.8125, 404.03125], [578.8125, 400.96875], [580.34375, 399.4375], [580.34375, 397.90625], [581.875, 396.375], [581.875, 394.84375], [583.40625, 393.3125], [583.40625, 388.71875], [584.9375, 387.1875], [584.9375, 384.125], [588.0, 381.0625], [588.0, 376.46875], [589.53125, 374.9375], [589.53125, 373.40625], [591.0625, 371.875], [595.65625, 371.875], [595.65625, 356.5625], [591.0625, 356.5625], [588.0, 353.5], [588.0, 350.4375], [586.46875, 348.90625], [586.46875, 344.3125], [584.9375, 342.78125], [584.9375, 341.25], [583.40625, 339.71875], [583.40625, 338.1875], [581.875, 336.65625], [581.875, 335.125], [578.8125, 332.0625], [578.8125, 330.53125], [574.21875, 325.9375], [574.21875, 324.40625], [572.6875, 322.875], [571.15625, 322.875], [560.4375, 312.15625], [558.90625, 312.15625], [555.84375, 309.09375], [554.3125, 309.09375], [551.25, 306.03125], [551.25, 301.4375]]}\n",
            "{'instance_id': 1, 'bbox': [511.5929260253906, 147.87344360351562, 655.0435180664062, 282.4364318847656], 'segmentation_mask': [[546.65625, 148.3125], [546.65625, 152.90625], [543.59375, 155.96875], [542.0625, 155.96875], [540.53125, 157.5], [539.0, 157.5], [537.46875, 159.03125], [535.9375, 159.03125], [534.40625, 160.5625], [532.875, 160.5625], [529.8125, 163.625], [528.28125, 163.625], [528.28125, 165.15625], [522.15625, 171.28125], [522.15625, 172.8125], [519.09375, 175.875], [519.09375, 177.40625], [517.5625, 178.9375], [511.4375, 178.9375], [511.4375, 241.71876525878906], [516.03125, 241.71876525878906], [519.09375, 244.78126525878906], [519.09375, 246.31251525878906], [520.625, 247.84376525878906], [520.625, 249.37501525878906], [525.21875, 253.96876525878906], [525.21875, 255.50001525878906], [532.875, 263.15625], [534.40625, 263.15625], [537.46875, 266.21875], [539.0, 266.21875], [540.53125, 267.75], [542.0625, 267.75], [543.59375, 269.28125], [545.125, 269.28125], [546.65625, 270.8125], [548.1875, 270.8125], [549.71875, 272.34375], [552.78125, 272.34375], [554.3125, 273.875], [555.84375, 273.875], [558.90625, 276.9375], [561.96875, 276.9375], [563.5, 278.46875], [569.625, 278.46875], [571.15625, 280.0], [589.53125, 280.0], [591.0625, 278.46875], [597.1875, 278.46875], [598.71875, 276.9375], [600.25, 276.9375], [601.78125, 275.40625], [603.3125, 275.40625], [604.84375, 273.875], [606.375, 273.875], [610.96875, 269.28125], [612.5, 269.28125], [615.5625, 266.21875], [617.09375, 266.21875], [618.625, 264.6875], [620.15625, 264.6875], [621.6875, 263.15625], [623.21875, 263.15625], [626.28125, 260.09375], [627.8125, 260.09375], [629.34375, 258.5625], [632.40625, 258.5625], [633.9375, 257.03125], [635.46875, 257.03125], [641.59375, 250.90626525878906], [641.59375, 249.37501525878906], [643.125, 247.84376525878906], [643.125, 246.31251525878906], [644.65625, 244.78126525878906], [644.65625, 241.71876525878906], [646.1875, 240.18751525878906], [646.1875, 231.00001525878906], [647.71875, 229.46876525878906], [647.71875, 226.40626525878906], [649.25, 224.87501525878906], [649.25, 223.34376525878906], [650.78125, 221.81251525878906], [650.78125, 220.28126525878906], [652.3125, 218.75001525878906], [656.90625, 218.75001525878906], [656.90625, 186.59375], [652.3125, 186.59375], [649.25, 183.53125], [649.25, 182.0], [647.71875, 180.46875], [647.71875, 178.9375], [646.1875, 177.40625], [646.1875, 175.875], [640.0625, 169.75], [638.53125, 169.75], [637.0, 168.21875], [633.9375, 168.21875], [632.40625, 166.6875], [630.875, 166.6875], [629.34375, 168.21875], [600.25, 168.21875], [598.71875, 166.6875], [591.0625, 166.6875], [588.0, 163.625], [586.46875, 163.625], [584.9375, 162.09375], [583.40625, 162.09375], [581.875, 160.5625], [580.34375, 160.5625], [575.75, 155.96875], [574.21875, 155.96875], [571.15625, 152.90625], [571.15625, 148.3125]]}\n",
            "{'instance_id': 2, 'bbox': [578.9462280273438, 345.1188659667969, 726.7943115234375, 495.78619384765625], 'segmentation_mask': [[624.75, 344.3125], [624.75, 348.90625], [623.21875, 350.4375], [621.6875, 350.4375], [620.15625, 351.96875], [617.09375, 351.96875], [615.5625, 353.5], [614.03125, 353.5], [609.4375, 358.09375], [607.90625, 358.09375], [595.65625, 370.34375], [595.65625, 371.875], [594.125, 373.40625], [594.125, 374.9375], [592.59375, 376.46875], [592.59375, 378.0], [591.0625, 379.53125], [591.0625, 382.59375], [589.53125, 384.125], [589.53125, 385.65625], [588.0, 387.1875], [588.0, 388.71875], [586.46875, 390.25], [586.46875, 391.78125], [584.9375, 393.3125], [578.8125, 393.3125], [578.8125, 445.3750305175781], [583.40625, 445.3750305175781], [586.46875, 448.4375305175781], [586.46875, 449.9687805175781], [588.0, 451.5000305175781], [588.0, 453.0312805175781], [591.0625, 456.0937805175781], [591.0625, 460.6875305175781], [592.59375, 462.2187805175781], [592.59375, 463.7500305175781], [597.1875, 468.3437805175781], [597.1875, 469.8750305175781], [598.71875, 471.4062805175781], [600.25, 471.4062805175781], [607.90625, 479.0625305175781], [609.4375, 479.0625305175781], [612.5, 482.1250305175781], [614.03125, 482.1250305175781], [615.5625, 483.6562805175781], [617.09375, 483.6562805175781], [618.625, 485.1875305175781], [620.15625, 485.1875305175781], [621.6875, 486.7187805175781], [623.21875, 486.7187805175781], [624.75, 488.2500305175781], [627.8125, 488.2500305175781], [629.34375, 489.7812805175781], [635.46875, 489.7812805175781], [637.0, 491.3125305175781], [640.0625, 491.3125305175781], [641.59375, 492.8437805175781], [659.96875, 492.8437805175781], [661.5, 491.3125305175781], [669.15625, 491.3125305175781], [670.6875, 489.7812805175781], [675.28125, 489.7812805175781], [678.34375, 486.7187805175781], [679.875, 486.7187805175781], [681.40625, 485.1875305175781], [682.9375, 485.1875305175781], [684.46875, 483.6562805175781], [689.0625, 483.6562805175781], [690.59375, 482.1250305175781], [693.65625, 482.1250305175781], [695.1875, 480.5937805175781], [696.71875, 480.5937805175781], [699.78125, 477.5312805175781], [701.3125, 477.5312805175781], [707.4375, 471.4062805175781], [707.4375, 469.8750305175781], [715.09375, 462.2187805175781], [715.09375, 460.6875305175781], [716.625, 459.1562805175781], [716.625, 457.6250305175781], [718.15625, 456.0937805175781], [718.15625, 453.0312805175781], [719.6875, 451.5000305175781], [719.6875, 448.4375305175781], [721.21875, 446.9062805175781], [721.21875, 445.3750305175781], [722.75, 443.8437805175781], [722.75, 440.7812805175781], [724.28125, 439.2500305175781], [724.28125, 436.1875305175781], [725.8125, 434.6562805175781], [730.40625, 434.6562805175781], [730.40625, 413.21875], [725.8125, 413.21875], [724.28125, 411.6875], [724.28125, 407.09375], [722.75, 405.5625], [722.75, 400.96875], [721.21875, 399.4375], [721.21875, 396.375], [719.6875, 394.84375], [719.6875, 391.78125], [718.15625, 390.25], [718.15625, 388.71875], [716.625, 387.1875], [716.625, 385.65625], [715.09375, 384.125], [715.09375, 382.59375], [712.03125, 379.53125], [712.03125, 378.0], [708.96875, 374.9375], [708.96875, 373.40625], [695.1875, 359.625], [695.1875, 358.09375], [693.65625, 356.5625], [687.53125, 356.5625], [684.46875, 353.5], [682.9375, 353.5], [681.40625, 351.96875], [679.875, 351.96875], [678.34375, 350.4375], [676.8125, 350.4375], [675.28125, 348.90625], [675.28125, 344.3125]]}\n",
            "{'instance_id': 3, 'bbox': [655.5529174804688, 31.37335777282715, 777.362060546875, 171.71124267578125], 'segmentation_mask': [[696.71875, 76.34375], [696.71875, 77.875], [695.1875, 79.40625], [695.1875, 82.46875], [693.65625, 84.0], [693.65625, 87.0625], [692.125, 88.59375], [692.125, 90.125], [690.59375, 91.65625], [690.59375, 93.1875], [689.0625, 94.71875], [689.0625, 96.25], [687.53125, 97.78125], [687.53125, 100.84375], [686.0, 102.375], [686.0, 103.90625], [684.46875, 105.4375], [684.46875, 108.5], [682.9375, 110.03125], [682.9375, 111.5625], [681.40625, 113.09375], [681.40625, 114.625], [679.875, 116.15625], [679.875, 117.6875], [678.34375, 119.21875], [678.34375, 120.75], [675.28125, 123.8125], [675.28125, 125.34375], [672.21875, 128.40625], [672.21875, 129.9375], [667.625, 134.53125], [667.625, 136.0625], [666.09375, 137.59375], [666.09375, 139.125], [663.03125, 142.1875], [658.4375, 142.1875], [658.4375, 160.5625], [664.5625, 160.5625], [666.09375, 162.09375], [667.625, 162.09375], [670.6875, 165.15625], [672.21875, 165.15625], [675.28125, 168.21875], [676.8125, 168.21875], [678.34375, 169.75], [681.40625, 169.75], [682.9375, 171.28125], [684.46875, 171.28125], [686.0, 172.8125], [686.0, 177.40625], [715.09375, 177.40625], [715.09375, 172.8125], [716.625, 171.28125], [722.75, 171.28125], [724.28125, 169.75], [725.8125, 169.75], [727.34375, 168.21875], [728.875, 168.21875], [731.9375, 165.15625], [733.46875, 165.15625], [736.53125, 162.09375], [738.0625, 162.09375], [742.65625, 157.5], [744.1875, 157.5], [747.25, 154.4375], [748.78125, 154.4375], [761.03125, 142.1875], [762.5625, 142.1875], [764.09375, 140.65625], [764.09375, 139.125], [768.6875, 134.53125], [768.6875, 133.0], [770.21875, 131.46875], [770.21875, 129.9375], [771.75, 128.40625], [771.75, 126.875], [773.28125, 125.34375], [773.28125, 123.8125], [774.8125, 122.28125], [779.40625, 122.28125], [779.40625, 77.875], [774.8125, 77.875], [773.28125, 76.34375], [773.28125, 74.8125], [771.75, 73.28125], [771.75, 71.75], [770.21875, 70.21875], [770.21875, 68.6875], [768.6875, 67.15625], [768.6875, 65.625], [767.15625, 64.09375], [767.15625, 62.562503814697266], [762.5625, 57.968753814697266], [762.5625, 56.437503814697266], [748.78125, 42.65625], [747.25, 42.65625], [741.125, 36.53125], [741.125, 31.937501907348633], [710.5, 31.937501907348633], [710.5, 39.59375], [712.03125, 41.125], [712.03125, 53.375003814697266], [713.5625, 54.906253814697266], [713.5625, 56.437503814697266], [712.03125, 57.968753814697266], [712.03125, 61.031253814697266], [696.71875, 76.34375], [678.34375, 57.968753814697266], [678.34375, 42.65625], [676.8125, 41.125], [676.8125, 39.59375], [675.28125, 38.0625], [675.28125, 31.937501907348633], [658.4375, 31.937501907348633], [658.4375, 39.59375], [664.5625, 39.59375], [667.625, 42.65625], [667.625, 44.1875], [669.15625, 45.71875], [669.15625, 47.25], [675.28125, 53.375003814697266], [675.28125, 56.437503814697266], [676.8125, 57.968753814697266], [676.8125, 59.500003814697266], [678.34375, 57.968753814697266]]}\n",
            "{'instance_id': 4, 'bbox': [761.0933837890625, 178.94677734375, 848.9307250976562, 288.1531066894531], 'segmentation_mask': [[788.59375, 178.9375], [788.59375, 183.53125], [785.53125, 186.59375], [773.28125, 186.59375], [771.75, 188.125], [770.21875, 188.125], [768.6875, 189.65625], [762.5625, 189.65625], [762.5625, 192.71875], [767.15625, 192.71875], [768.6875, 194.25], [768.6875, 195.78125], [770.21875, 197.31251525878906], [770.21875, 198.84376525878906], [771.75, 200.37501525878906], [771.75, 203.43751525878906], [773.28125, 204.96876525878906], [773.28125, 208.03126525878906], [774.8125, 209.56251525878906], [774.8125, 212.62501525878906], [776.34375, 214.15626525878906], [776.34375, 220.28126525878906], [777.875, 221.81251525878906], [777.875, 223.34376525878906], [776.34375, 224.87501525878906], [776.34375, 240.18751525878906], [774.8125, 241.71876525878906], [774.8125, 246.31251525878906], [773.28125, 247.84376525878906], [773.28125, 250.90626525878906], [771.75, 252.43751525878906], [771.75, 253.96876525878906], [770.21875, 255.50001525878906], [770.21875, 257.03125], [767.15625, 260.09375], [762.5625, 260.09375], [762.5625, 281.53125], [767.15625, 281.53125], [768.6875, 283.0625], [770.21875, 283.0625], [773.28125, 286.125], [774.8125, 286.125], [776.34375, 287.65625], [777.875, 287.65625], [779.40625, 289.1875], [779.40625, 293.78125], [788.59375, 293.78125], [788.59375, 289.1875], [790.125, 287.65625], [791.65625, 287.65625], [793.1875, 286.125], [796.25, 286.125], [797.78125, 284.59375], [800.84375, 284.59375], [802.375, 283.0625], [805.4375, 283.0625], [806.96875, 281.53125], [808.5, 281.53125], [810.03125, 280.0], [811.5625, 280.0], [814.625, 276.9375], [816.15625, 276.9375], [823.8125, 269.28125], [825.34375, 269.28125], [833.0, 261.625], [833.0, 260.09375], [836.0625, 257.03125], [836.0625, 255.50001525878906], [837.59375, 253.96876525878906], [837.59375, 252.43751525878906], [840.65625, 249.37501525878906], [840.65625, 247.84376525878906], [842.1875, 246.31251525878906], [842.1875, 244.78126525878906], [843.71875, 243.25001525878906], [843.71875, 240.18751525878906], [845.25, 238.65626525878906], [845.25, 235.59376525878906], [846.78125, 234.06251525878906], [846.78125, 232.53126525878906], [848.3125, 231.00001525878906], [852.90625, 231.00001525878906], [852.90625, 211.09376525878906], [848.3125, 211.09376525878906], [846.78125, 209.56251525878906], [846.78125, 208.03126525878906], [845.25, 206.50001525878906], [845.25, 204.96876525878906], [843.71875, 203.43751525878906], [843.71875, 201.90626525878906], [840.65625, 198.84376525878906], [840.65625, 197.31251525878906], [834.53125, 191.1875], [833.0, 191.1875], [828.40625, 186.59375], [826.875, 186.59375], [823.8125, 183.53125], [823.8125, 178.9375]]}\n"
          ]
        }
      ]
    },
    {
      "cell_type": "markdown",
      "metadata": {
        "id": "f90e8bb7"
      },
      "source": [
        "## Identificar la bounding box más grande\n",
        "\n",
        "### Subtask:\n",
        "Calcular el área de cada bounding box y encontrar la que tiene el área más grande.\n"
      ]
    },
    {
      "cell_type": "markdown",
      "metadata": {
        "id": "407d1e25"
      },
      "source": [
        "**Reasoning**:\n",
        "Initialize variables for tracking the largest bounding box area and the corresponding instance, then iterate through the segmented instances to calculate the area of each bounding box and update the largest area and instance information as needed.\n",
        "\n"
      ]
    },
    {
      "cell_type": "code",
      "metadata": {
        "colab": {
          "base_uri": "https://localhost:8080/"
        },
        "id": "b7fa5ed3",
        "outputId": "63a2f5ad-09eb-4044-ab2e-7e63744b12e8"
      },
      "source": [
        "largest_area = 0\n",
        "largest_instance_info = None\n",
        "\n",
        "for instance_info in segmented_instances:\n",
        "    # Extract bounding box coordinates [x1, y1, x2, y2]\n",
        "    bbox = instance_info[\"bbox\"]\n",
        "    x1, y1, x2, y2 = bbox\n",
        "\n",
        "    # Calculate area (width * height)\n",
        "    area = (x2 - x1) * (y2 - y1)\n",
        "\n",
        "    # Compare with the largest area found so far\n",
        "    if area > largest_area:\n",
        "        largest_area = area\n",
        "        largest_instance_info = instance_info\n",
        "\n",
        "# Display the instance with the largest bounding box\n",
        "if largest_instance_info:\n",
        "    print(f\"\\nInstance with the largest bounding box:\")\n",
        "    print(f\"  Instance ID: {largest_instance_info['instance_id']}\")\n",
        "    print(f\"  Bounding Box: {largest_instance_info['bbox']}\")\n",
        "    print(f\"  Area: {largest_area:.2f}\")\n",
        "else:\n",
        "    print(\"\\nNo instances found to calculate bounding box area.\")"
      ],
      "execution_count": 8,
      "outputs": [
        {
          "output_type": "stream",
          "name": "stdout",
          "text": [
            "\n",
            "Instance with the largest bounding box:\n",
            "  Instance ID: 0\n",
            "  Bounding Box: [440.67047119140625, 301.27587890625, 591.7528076171875, 448.9609375]\n",
            "  Area: 22312.60\n"
          ]
        }
      ]
    },
    {
      "cell_type": "markdown",
      "metadata": {
        "id": "927cc6b5"
      },
      "source": [
        "## Visualizar resultados\n",
        "\n",
        "### Subtask:\n",
        "Dibujar las máscaras de segmentación con sus IDs y resaltar la instancia con la bounding box más grande en la imagen o video de salida.\n"
      ]
    },
    {
      "cell_type": "markdown",
      "metadata": {
        "id": "0411fa97"
      },
      "source": [
        "**Reasoning**:\n",
        "Import necessary libraries for drawing, load the image, iterate through the segmented instances, draw masks, bounding boxes, IDs, and highlight the largest bounding box, then save the output image.\n",
        "\n"
      ]
    },
    {
      "cell_type": "code",
      "metadata": {
        "colab": {
          "base_uri": "https://localhost:8080/"
        },
        "id": "d4ce89b9",
        "outputId": "9c70d5fc-b975-47b4-bcdd-0286fffa2f9e"
      },
      "source": [
        "import cv2\n",
        "import numpy as np\n",
        "\n",
        "# Load the original image (assuming input_source is an image file path)\n",
        "# If processing a video, you would use cv2.VideoCapture and process frame by frame\n",
        "try:\n",
        "    image = cv2.imread(input_source)\n",
        "    if image is None:\n",
        "        raise FileNotFoundError(f\"Could not load image from {input_source}\")\n",
        "except FileNotFoundError as e:\n",
        "    print(e)\n",
        "    # Handle the error, maybe exit or use a placeholder image\n",
        "    # For this example, we'll print the error and finish the task as failure\n",
        "    # If this were a video, similar error handling for VideoCapture is needed\n",
        "    image = None # Ensure image is None to indicate failure\n",
        "\n",
        "if image is not None:\n",
        "    output_image = image.copy()\n",
        "\n",
        "    for instance_info in segmented_instances:\n",
        "        instance_id = instance_info[\"instance_id\"]\n",
        "        bbox = instance_info[\"bbox\"]\n",
        "        mask_points = np.array(instance_info[\"segmentation_mask\"], dtype=np.int32)\n",
        "\n",
        "        # Draw segmentation mask\n",
        "        # Reshape mask_points for fillPoly if it's a list of points for a single polygon\n",
        "        # If it's a list of lists of points, iterate through them\n",
        "        if mask_points.ndim == 2: # Assuming a single polygon mask\n",
        "             cv2.fillPoly(output_image, [mask_points], color=(0, 255, 0)) # Green color for mask\n",
        "        elif mask_points.ndim == 3: # Assuming multiple polygon masks for an instance (less common)\n",
        "            for poly in mask_points:\n",
        "                 cv2.fillPoly(output_image, [poly], color=(0, 255, 0)) # Green color for mask\n",
        "\n",
        "\n",
        "        # Draw bounding box\n",
        "        x1, y1, x2, y2 = [int(coord) for coord in bbox]\n",
        "        box_color = (255, 0, 0) # Blue color for bounding box\n",
        "        box_thickness = 2\n",
        "\n",
        "        # Check if this is the largest instance\n",
        "        if largest_instance_info and instance_id == largest_instance_info[\"instance_id\"]:\n",
        "            box_color = (0, 0, 255) # Red color for the largest bounding box\n",
        "            box_thickness = 4 # Thicker line for highlighting\n",
        "\n",
        "        cv2.rectangle(output_image, (x1, y1), (x2, y2), box_color, box_thickness)\n",
        "\n",
        "        # Put instance ID text near the bounding box\n",
        "        text = f\"ID: {instance_id}\"\n",
        "        font = cv2.FONT_HERSHEY_SIMPLEX\n",
        "        font_scale = 0.5\n",
        "        text_thickness = 1\n",
        "        text_color = (255, 255, 255) # White color for text\n",
        "        text_position = (x1, y1 - 10) # Position above the bounding box\n",
        "\n",
        "        # Ensure text position is within image bounds\n",
        "        if text_position[1] < 0:\n",
        "            text_position = (x1, y2 + 15) # Position below the bounding box if above is out\n",
        "\n",
        "        cv2.putText(output_image, text, text_position, font, font_scale, text_color, text_thickness)\n",
        "\n",
        "    # Save the output image\n",
        "    output_path = \"output_segmentation.jpg\" # Or .mp4 if processing video\n",
        "    cv2.imwrite(output_path, output_image)\n",
        "    print(f\"Output image saved to {output_path}\")\n",
        "\n",
        "    # If processing video, you would write frames to a VideoWriter object"
      ],
      "execution_count": 9,
      "outputs": [
        {
          "output_type": "stream",
          "name": "stdout",
          "text": [
            "Output image saved to output_segmentation.jpg\n"
          ]
        }
      ]
    },
    {
      "cell_type": "markdown",
      "metadata": {
        "id": "2e051cd6"
      },
      "source": [
        "## Summary:\n",
        "\n",
        "### Data Analysis Key Findings\n",
        "\n",
        "*   The trained YOLO model \"best.pt\" was successfully loaded.\n",
        "*   Inference was performed on the input image \"input.jpg\", detecting 9 instances.\n",
        "*   The process successfully extracted segmentation masks and bounding boxes for each detected instance.\n",
        "*   A unique ID was assigned to each segmented instance.\n",
        "*   The area of each bounding box was calculated, and the instance with the largest bounding box was identified.\n",
        "*   The segmentation masks, bounding boxes, and instance IDs were visualized on the original image.\n",
        "*   The instance with the largest bounding box was specifically highlighted with a different color (red) and thicker line.\n",
        "*   The resulting annotated image was saved as \"output\\_segmentation.jpg\".\n",
        "\n",
        "### Insights or Next Steps\n",
        "\n",
        "*   The current process handles a single image. To extend this to video, the visualization step would need to be adapted to process and write frames using `cv2.VideoCapture` and `cv2.VideoWriter`.\n",
        "*   The mask drawing uses a fixed green color. Adding variability in mask colors could help differentiate overlapping instances more clearly.\n"
      ]
    },
    {
      "cell_type": "markdown",
      "metadata": {
        "id": "98068a53"
      },
      "source": [
        "# Task\n",
        "Genera un programa en Python que utilice el modelo YOLOv8 `best.pt` para segmentar instancias en imágenes. El programa debe procesar todas las imágenes dentro de una carpeta llamada `test`, asignando un ID único a cada instancia detectada y resaltando la instancia con la bounding box más grande en cada imagen. Además, el programa debe incluir el código para crear la carpeta `test`, mover todas las imágenes a ella y renombrarlas secuencialmente como `img-1`, `img-2`, etc."
      ]
    },
    {
      "cell_type": "markdown",
      "metadata": {
        "id": "828fabc5"
      },
      "source": [
        "## Crear la carpeta 'test' y mover las imágenes\n",
        "\n",
        "### Subtask:\n",
        "Crear una nueva carpeta llamada `test` en el directorio actual y mover todos los archivos de imagen (con extensiones .jpg, .jpeg, .png, etc.) a esa carpeta.\n"
      ]
    },
    {
      "cell_type": "markdown",
      "metadata": {
        "id": "b1129187"
      },
      "source": [
        "**Reasoning**:\n",
        "Import necessary libraries, define the destination folder name, create the folder if it doesn't exist, iterate through files in the current directory, check if they are image files, and move them to the destination folder.\n",
        "\n"
      ]
    },
    {
      "cell_type": "code",
      "metadata": {
        "colab": {
          "base_uri": "https://localhost:8080/"
        },
        "id": "3b5e9d34",
        "outputId": "b5680c60-fa0c-4b38-dfed-27b4decc0a5b"
      },
      "source": [
        "import os\n",
        "import shutil\n",
        "\n",
        "# Define the destination folder\n",
        "destination_folder = 'test'\n",
        "\n",
        "# Create the destination folder if it doesn't exist\n",
        "os.makedirs(destination_folder, exist_ok=True)\n",
        "\n",
        "# Get a list of all files in the current directory\n",
        "files_in_current_directory = os.listdir('.')\n",
        "\n",
        "# Define common image file extensions\n",
        "image_extensions = ['.jpg', '.jpeg', '.png', '.gif', '.bmp', '.tiff']\n",
        "\n",
        "# Iterate through the files and move image files to the destination folder\n",
        "moved_count = 0\n",
        "for file_name in files_in_current_directory:\n",
        "    # Construct the full path to the file\n",
        "    file_path = os.path.join('.', file_name)\n",
        "\n",
        "    # Check if it's a file and if it has an image extension (case-insensitive)\n",
        "    if os.path.isfile(file_path) and any(file_name.lower().endswith(ext) for ext in image_extensions):\n",
        "        # Construct the destination path\n",
        "        destination_path = os.path.join(destination_folder, file_name)\n",
        "\n",
        "        # Move the file\n",
        "        shutil.move(file_path, destination_path)\n",
        "        moved_count += 1\n",
        "        print(f\"Moved '{file_name}' to '{destination_folder}'\")\n",
        "\n",
        "if moved_count == 0:\n",
        "    print(\"No image files found in the current directory to move.\")\n"
      ],
      "execution_count": 10,
      "outputs": [
        {
          "output_type": "stream",
          "name": "stdout",
          "text": [
            "Moved '1331172.jpeg' to 'test'\n",
            "Moved 'bol.-1836-2.jpg' to 'test'\n",
            "Moved 'shutterstock_483130855-TOMATE-scaled.jpg' to 'test'\n",
            "Moved 'variedades_de_tomate_para_invernadero_2273_0_600.jpg' to 'test'\n",
            "Moved 'cultivo_de_tomate_en_invernadero_2273_600_square.jpg' to 'test'\n"
          ]
        }
      ]
    },
    {
      "cell_type": "markdown",
      "metadata": {
        "id": "a9ae066f"
      },
      "source": [
        "## Renombrar las imágenes en 'test'\n",
        "\n",
        "### Subtask:\n",
        "Renombrar las imágenes dentro de la carpeta `test` a `img-1.jpg`, `img-2.jpg`, etc. (asumiendo que son archivos JPG, se ajustará la extensión según sea necesario).\n"
      ]
    },
    {
      "cell_type": "markdown",
      "metadata": {
        "id": "6093ca23"
      },
      "source": [
        "**Reasoning**:\n",
        "Import the os module, define the path to the test folder, get a list of image files, sort them, and then iterate through the sorted list to rename each image sequentially, printing the old and new names.\n",
        "\n"
      ]
    },
    {
      "cell_type": "code",
      "metadata": {
        "colab": {
          "base_uri": "https://localhost:8080/"
        },
        "id": "a9133c42",
        "outputId": "e92de4cb-9a9c-4e2f-8107-ebc15aa572da"
      },
      "source": [
        "import os\n",
        "\n",
        "# Define the path to the test folder\n",
        "test_folder = 'test'\n",
        "\n",
        "# Get a list of all files in the test folder\n",
        "files_in_test_folder = os.listdir(test_folder)\n",
        "\n",
        "# Define common image file extensions (same as used in the previous step)\n",
        "image_extensions = ['.jpg', '.jpeg', '.png', '.gif', '.bmp', '.tiff']\n",
        "\n",
        "# Filter the list to include only image files\n",
        "image_files = [f for f in files_in_test_folder if os.path.isfile(os.path.join(test_folder, f)) and any(f.lower().endswith(ext) for ext in image_extensions)]\n",
        "\n",
        "# Sort the list of image files to ensure consistent renaming\n",
        "image_files.sort()\n",
        "\n",
        "# Iterate through the sorted list and rename the files\n",
        "for index, old_name in enumerate(image_files):\n",
        "    # Determine the file extension\n",
        "    file_extension = os.path.splitext(old_name)[1]\n",
        "\n",
        "    # Create the new sequential name\n",
        "    new_name = f\"img-{index + 1}{file_extension}\"\n",
        "\n",
        "    # Construct the full paths\n",
        "    old_path = os.path.join(test_folder, old_name)\n",
        "    new_path = os.path.join(test_folder, new_name)\n",
        "\n",
        "    # Rename the file\n",
        "    os.rename(old_path, new_path)\n",
        "    print(f\"Renamed '{old_name}' to '{new_name}'\")\n",
        "\n",
        "if not image_files:\n",
        "    print(f\"No image files found in '{test_folder}' to rename.\")"
      ],
      "execution_count": 11,
      "outputs": [
        {
          "output_type": "stream",
          "name": "stdout",
          "text": [
            "Renamed '1331172.jpeg' to 'img-1.jpeg'\n",
            "Renamed 'bol.-1836-2.jpg' to 'img-2.jpg'\n",
            "Renamed 'cultivo_de_tomate_en_invernadero_2273_600_square.jpg' to 'img-3.jpg'\n",
            "Renamed 'shutterstock_483130855-TOMATE-scaled.jpg' to 'img-4.jpg'\n",
            "Renamed 'variedades_de_tomate_para_invernadero_2273_0_600.jpg' to 'img-5.jpg'\n"
          ]
        }
      ]
    },
    {
      "cell_type": "markdown",
      "metadata": {
        "id": "182579de"
      },
      "source": [
        "## Modificar el código para procesar imágenes en bucle\n",
        "\n",
        "### Subtask:\n",
        "Adaptar el código existente para iterar sobre los archivos en la carpeta `test`, realizar la inferencia, procesar los resultados y visualizar/guardar la salida para cada imagen.\n"
      ]
    },
    {
      "cell_type": "markdown",
      "metadata": {
        "id": "3e795f16"
      },
      "source": [
        "**Reasoning**:\n",
        "Adapt the existing code to process all images in the 'test' folder, perform inference, process results, and save the output for each image.\n",
        "\n"
      ]
    },
    {
      "cell_type": "code",
      "metadata": {
        "colab": {
          "base_uri": "https://localhost:8080/"
        },
        "id": "50acb7a7",
        "outputId": "ef0d5b88-dd19-45e3-9ecd-bc700c605f21"
      },
      "source": [
        "import os\n",
        "import cv2\n",
        "import numpy as np\n",
        "\n",
        "# Define the path to the test folder and output folder\n",
        "test_folder = 'test'\n",
        "output_folder = 'output'\n",
        "\n",
        "# Create the output folder if it doesn't exist\n",
        "os.makedirs(output_folder, exist_ok=True)\n",
        "\n",
        "# Get a list of all files in the test folder\n",
        "files_in_test_folder = os.listdir(test_folder)\n",
        "\n",
        "# Define common image file extensions\n",
        "image_extensions = ['.jpg', '.jpeg', '.png', '.gif', '.bmp', '.tiff']\n",
        "\n",
        "# Filter the list to include only image files\n",
        "image_files = [f for f in files_in_test_folder if os.path.isfile(os.path.join(test_folder, f)) and any(f.lower().endswith(ext) for ext in image_extensions)]\n",
        "\n",
        "# Iterate through the image files in the test folder\n",
        "for image_name in image_files:\n",
        "    print(f\"\\nProcessing image: {image_name}\")\n",
        "    # Construct the full path to the current image file\n",
        "    image_path = os.path.join(test_folder, image_name)\n",
        "\n",
        "    # Load the current image\n",
        "    image = cv2.imread(image_path)\n",
        "    if image is None:\n",
        "        print(f\"Could not load image from {image_path}. Skipping.\")\n",
        "        continue\n",
        "\n",
        "    # Perform inference on the loaded image\n",
        "    results = model.predict(image_path)\n",
        "\n",
        "    # Initialize list for segmented instances and instance ID counter for the current image\n",
        "    segmented_instances = []\n",
        "    instance_id_counter = 0\n",
        "\n",
        "    # Process the inference results for the current image\n",
        "    for result in results:\n",
        "        if result.masks is not None:\n",
        "            # Iterate through masks and boxes\n",
        "            for mask, box in zip(result.masks.xy, result.boxes.xyxy):\n",
        "                # Assign a unique ID to the current instance\n",
        "                instance_id = instance_id_counter\n",
        "                instance_id_counter += 1\n",
        "\n",
        "                # Store the instance information\n",
        "                instance_info = {\n",
        "                    \"instance_id\": instance_id,\n",
        "                    \"bbox\": box.tolist(),  # Convert bounding box tensor to list\n",
        "                    \"segmentation_mask\": mask.tolist(),  # Convert mask tensor to list\n",
        "                }\n",
        "                segmented_instances.append(instance_info)\n",
        "\n",
        "    # Find the instance with the largest bounding box area for the current image\n",
        "    largest_area = 0\n",
        "    largest_instance_info = None\n",
        "\n",
        "    for instance_info in segmented_instances:\n",
        "        # Extract bounding box coordinates [x1, y1, x2, y2]\n",
        "        bbox = instance_info[\"bbox\"]\n",
        "        x1, y1, x2, y2 = bbox\n",
        "\n",
        "        # Calculate area (width * height)\n",
        "        area = (x2 - x1) * (y2 - y1)\n",
        "\n",
        "        # Compare with the largest area found so far\n",
        "        if area > largest_area:\n",
        "            largest_area = area\n",
        "            largest_instance_info = instance_info\n",
        "\n",
        "    # Create a copy of the original image to draw the results on\n",
        "    output_image = image.copy()\n",
        "\n",
        "    # Draw the segmentation masks, bounding boxes, and instance IDs\n",
        "    if segmented_instances:\n",
        "        for instance_info in segmented_instances:\n",
        "            instance_id = instance_info[\"instance_id\"]\n",
        "            bbox = instance_info[\"bbox\"]\n",
        "            mask_points = np.array(instance_info[\"segmentation_mask\"], dtype=np.int32)\n",
        "\n",
        "            # Draw segmentation mask\n",
        "            if mask_points.ndim == 2: # Assuming a single polygon mask\n",
        "                 cv2.fillPoly(output_image, [mask_points], color=(0, 255, 0)) # Green color for mask\n",
        "            elif mask_points.ndim == 3: # Assuming multiple polygon masks for an instance (less common)\n",
        "                for poly in mask_points:\n",
        "                     cv2.fillPoly(output_image, [poly], color=(0, 255, 0)) # Green color for mask\n",
        "\n",
        "\n",
        "            # Draw bounding box\n",
        "            x1, y1, x2, y2 = [int(coord) for coord in bbox]\n",
        "            box_color = (255, 0, 0) # Blue color for bounding box\n",
        "            box_thickness = 2\n",
        "\n",
        "            # Check if this is the largest instance\n",
        "            if largest_instance_info and instance_id == largest_instance_info[\"instance_id\"]:\n",
        "                box_color = (0, 0, 255) # Red color for the largest bounding box\n",
        "                box_thickness = 4 # Thicker line for highlighting\n",
        "\n",
        "            cv2.rectangle(output_image, (x1, y1), (x2, y2), box_color, box_thickness)\n",
        "\n",
        "            # Put instance ID text near the bounding box\n",
        "            text = f\"ID: {instance_id}\"\n",
        "            font = cv2.FONT_HERSHEY_SIMPLEX\n",
        "            font_scale = 0.5\n",
        "            text_thickness = 1\n",
        "            text_color = (255, 255, 255) # White color for text\n",
        "            text_position = (x1, y1 - 10) # Position above the bounding box\n",
        "\n",
        "            # Ensure text position is within image bounds\n",
        "            if text_position[1] < 0:\n",
        "                text_position = (x1, y2 + 15) # Position below the bounding box if above is out\n",
        "\n",
        "            cv2.putText(output_image, text, text_position, font, font_scale, text_color, text_thickness)\n",
        "\n",
        "        # Define output path\n",
        "        output_path = os.path.join(output_folder, f\"annotated_{image_name}\")\n",
        "\n",
        "        # Save the annotated image\n",
        "        cv2.imwrite(output_path, output_image)\n",
        "        print(f\"Annotated image saved to {output_path}\")\n",
        "\n",
        "    else:\n",
        "        print(f\"No instances found in {image_name}.\")"
      ],
      "execution_count": 15,
      "outputs": [
        {
          "output_type": "stream",
          "name": "stdout",
          "text": [
            "\n",
            "Processing image: img-2.jpeg\n",
            "\n",
            "image 1/1 /content/test/img-2.jpeg: 384x640 9 rojos, 16.0ms\n",
            "Speed: 2.5ms preprocess, 16.0ms inference, 3.5ms postprocess per image at shape (1, 3, 384, 640)\n",
            "Annotated image saved to output/annotated_img-2.jpeg\n",
            "\n",
            "Processing image: img-6.jpg\n",
            "\n",
            "image 1/1 /content/test/img-6.jpg: 352x640 70 rojos, 14.4ms\n",
            "Speed: 1.8ms preprocess, 14.4ms inference, 4.1ms postprocess per image at shape (1, 3, 352, 640)\n",
            "Annotated image saved to output/annotated_img-6.jpg\n",
            "\n",
            "Processing image: img-7.jpg\n",
            "\n",
            "image 1/1 /content/test/img-7.jpg: 448x640 35 rojos, 16.6ms\n",
            "Speed: 2.4ms preprocess, 16.6ms inference, 3.8ms postprocess per image at shape (1, 3, 448, 640)\n",
            "Annotated image saved to output/annotated_img-7.jpg\n",
            "\n",
            "Processing image: img-1.jpg\n",
            "\n",
            "image 1/1 /content/test/img-1.jpg: 640x544 33 rojos, 74.3ms\n",
            "Speed: 3.0ms preprocess, 74.3ms inference, 3.7ms postprocess per image at shape (1, 3, 640, 544)\n",
            "Annotated image saved to output/annotated_img-1.jpg\n"
          ]
        }
      ]
    },
    {
      "cell_type": "markdown",
      "metadata": {
        "id": "37601f0a"
      },
      "source": [
        "## Summary:\n",
        "\n",
        "### Data Analysis Key Findings\n",
        "\n",
        "*   The process successfully created a `test` folder and moved all image files from the current directory into it.\n",
        "*   Image files within the `test` folder were successfully renamed sequentially (e.g., `img-1.jpg`, `img-2.jpeg`), preserving their original file extensions.\n",
        "*   The YOLOv8 model was applied to each image in the `test` folder to perform instance segmentation.\n",
        "*   A unique ID was assigned to each detected instance within each image.\n",
        "*   The instance with the largest bounding box area was identified for each image.\n",
        "*   Annotated images, showing segmentation masks, bounding boxes, instance IDs, and highlighting the largest instance, were saved to a newly created `output` folder.\n",
        "\n",
        "### Insights or Next Steps\n",
        "\n",
        "*   The current process assumes the `best.pt` YOLOv8 model is accessible in the environment. Ensure the model file is correctly located or specified.\n",
        "*   Consider adding error handling for cases where image loading or inference fails for specific files.\n"
      ]
    },
    {
      "cell_type": "markdown",
      "metadata": {
        "id": "08bb83ea"
      },
      "source": [
        "## Crear la carpeta 'test' y mover las imágenes\n",
        "\n",
        "### Subtask:\n",
        "Crear una nueva carpeta llamada `test` en el directorio actual y mover todos los archivos de imagen (con extensiones .jpg, .jpeg, .png, etc.) a esa carpeta."
      ]
    },
    {
      "cell_type": "markdown",
      "metadata": {
        "id": "e7dbfe15"
      },
      "source": [
        "**Reasoning**:\n",
        "Import necessary libraries, define the destination folder name, create the folder if it doesn't exist, iterate through files in the current directory, check if they are image files, and move them to the destination folder."
      ]
    },
    {
      "cell_type": "code",
      "metadata": {
        "colab": {
          "base_uri": "https://localhost:8080/"
        },
        "id": "828d3b05",
        "outputId": "476e0c45-4845-461e-d258-d3298b0974bd"
      },
      "source": [
        "import os\n",
        "import shutil\n",
        "\n",
        "# Define the destination folder\n",
        "destination_folder = 'test'\n",
        "\n",
        "# Create the destination folder if it doesn't exist\n",
        "os.makedirs(destination_folder, exist_ok=True)\n",
        "\n",
        "# Get a list of all files in the current directory\n",
        "files_in_current_directory = os.listdir('.')\n",
        "\n",
        "# Define common image file extensions\n",
        "image_extensions = ['.jpg', '.jpeg', '.png', '.gif', '.bmp', '.tiff']\n",
        "\n",
        "# Iterate through the files and move image files to the destination folder\n",
        "moved_count = 0\n",
        "for file_name in files_in_current_directory:\n",
        "    # Construct the full path to the file\n",
        "    file_path = os.path.join('.', file_name)\n",
        "\n",
        "    # Check if it's a file and if it has an image extension (case-insensitive)\n",
        "    if os.path.isfile(file_path) and any(file_name.lower().endswith(ext) for ext in image_extensions):\n",
        "        # Construct the destination path\n",
        "        destination_path = os.path.join(destination_folder, file_name)\n",
        "\n",
        "        # Move the file\n",
        "        shutil.move(file_path, destination_path)\n",
        "        moved_count += 1\n",
        "        print(f\"Moved '{file_name}' to '{destination_folder}'\")\n",
        "\n",
        "if moved_count == 0:\n",
        "    print(\"No image files found in the current directory to move.\")"
      ],
      "execution_count": 13,
      "outputs": [
        {
          "output_type": "stream",
          "name": "stdout",
          "text": [
            "Moved 'img-1 (2).jpg' to 'test'\n",
            "Moved 'img-2 (1).jpg' to 'test'\n"
          ]
        }
      ]
    },
    {
      "cell_type": "markdown",
      "metadata": {
        "id": "40a65183"
      },
      "source": [
        "## Renombrar las imágenes en 'test'\n",
        "\n",
        "### Subtask:\n",
        "Renombrar las imágenes dentro de la carpeta `test` a `img-1.jpg`, `img-2.jpg`, etc. (asumiendo que son archivos JPG, se ajustará la extensión según sea necesario)."
      ]
    },
    {
      "cell_type": "markdown",
      "metadata": {
        "id": "7e232d2b"
      },
      "source": [
        "**Reasoning**:\n",
        "Import the os module, define the path to the test folder, get a list of image files, sort them, and then iterate through the sorted list to rename each image sequentially, printing the old and new names."
      ]
    },
    {
      "cell_type": "code",
      "metadata": {
        "colab": {
          "base_uri": "https://localhost:8080/"
        },
        "id": "5b13e353",
        "outputId": "0baa3d71-36cf-4af2-9857-4ab0624884b7"
      },
      "source": [
        "import os\n",
        "\n",
        "# Define the path to the test folder\n",
        "test_folder = 'test'\n",
        "\n",
        "# Get a list of all files in the test folder\n",
        "files_in_test_folder = os.listdir(test_folder)\n",
        "\n",
        "# Define common image file extensions (same as used in the previous step)\n",
        "image_extensions = ['.jpg', '.jpeg', '.png', '.gif', '.bmp', '.tiff']\n",
        "\n",
        "# Filter the list to include only image files\n",
        "image_files = [f for f in files_in_test_folder if os.path.isfile(os.path.join(test_folder, f)) and any(f.lower().endswith(ext) for ext in image_extensions)]\n",
        "\n",
        "# Sort the list of image files to ensure consistent renaming\n",
        "image_files.sort()\n",
        "\n",
        "# Iterate through the sorted list and rename the files\n",
        "for index, old_name in enumerate(image_files):\n",
        "    # Determine the file extension\n",
        "    file_extension = os.path.splitext(old_name)[1]\n",
        "\n",
        "    # Create the new sequential name\n",
        "    new_name = f\"img-{index + 1}{file_extension}\"\n",
        "\n",
        "    # Construct the full paths\n",
        "    old_path = os.path.join(test_folder, old_name)\n",
        "    new_path = os.path.join(test_folder, new_name)\n",
        "\n",
        "    # Rename the file\n",
        "    os.rename(old_path, new_path)\n",
        "    print(f\"Renamed '{old_name}' to '{new_name}'\")\n",
        "\n",
        "if not image_files:\n",
        "    print(f\"No image files found in '{test_folder}' to rename.\")"
      ],
      "execution_count": 14,
      "outputs": [
        {
          "output_type": "stream",
          "name": "stdout",
          "text": [
            "Renamed 'img-1 (2).jpg' to 'img-1.jpg'\n",
            "Renamed 'img-1.jpeg' to 'img-2.jpeg'\n",
            "Renamed 'img-2 (1).jpg' to 'img-3.jpg'\n",
            "Renamed 'img-2.jpg' to 'img-4.jpg'\n",
            "Renamed 'img-3.jpg' to 'img-5.jpg'\n",
            "Renamed 'img-4.jpg' to 'img-6.jpg'\n",
            "Renamed 'img-5.jpg' to 'img-7.jpg'\n"
          ]
        }
      ]
    },
    {
      "cell_type": "markdown",
      "metadata": {
        "id": "c2f70237"
      },
      "source": [
        "# Task\n",
        "Analiza la imagen \"/test/img-7.jpg\" utilizando el modelo \"best.pt\" para segmentar instancias, asignar IDs únicos a cada elemento, identificar la bounding box más grande y calcular la diferencia porcentual del área de la bounding box más grande con respecto a las áreas de las demás bounding boxes."
      ]
    },
    {
      "cell_type": "markdown",
      "metadata": {
        "id": "238eb748"
      },
      "source": [
        "## Seleccionar la imagen de interés\n",
        "\n",
        "### Subtask:\n",
        "Especificar la ruta a la imagen `/test/img-7.jpg`.\n"
      ]
    },
    {
      "cell_type": "markdown",
      "metadata": {
        "id": "baef3812"
      },
      "source": [
        "**Reasoning**:\n",
        "Define the path to the specific image to be analyzed.\n",
        "\n"
      ]
    },
    {
      "cell_type": "code",
      "metadata": {
        "colab": {
          "base_uri": "https://localhost:8080/"
        },
        "id": "b3f1242a",
        "outputId": "1a7c4b68-200e-4f2a-fad9-d546689c8ab0"
      },
      "source": [
        "# Define the path to the image\n",
        "image_path = \"/test/img-7.jpg\"\n",
        "\n",
        "# Print the image path to verify\n",
        "print(f\"Analyzing image: {image_path}\")"
      ],
      "execution_count": 16,
      "outputs": [
        {
          "output_type": "stream",
          "name": "stdout",
          "text": [
            "Analyzing image: /test/img-7.jpg\n"
          ]
        }
      ]
    },
    {
      "cell_type": "markdown",
      "metadata": {
        "id": "f4f59b6c"
      },
      "source": [
        "## Realizar inferencia y procesar resultados\n",
        "\n",
        "### Subtask:\n",
        "Ejecutar la inferencia en `/test/img-7.jpg` y procesar los resultados para obtener las bounding boxes y sus áreas.\n"
      ]
    },
    {
      "cell_type": "markdown",
      "metadata": {
        "id": "dd07b875"
      },
      "source": [
        "**Reasoning**:\n",
        "Perform inference on the specified image path using the loaded model and process the results to extract bounding box information and calculate their areas.\n",
        "\n"
      ]
    },
    {
      "cell_type": "code",
      "metadata": {
        "colab": {
          "base_uri": "https://localhost:8080/"
        },
        "id": "9418a117",
        "outputId": "de7cdad4-6542-4591-d032-e95513c6419f"
      },
      "source": [
        "# Perform inference on the image path\n",
        "results = model.predict(image_path)\n",
        "\n",
        "# Initialize list for segmented instances and instance ID counter\n",
        "segmented_instances = []\n",
        "instance_id_counter = 0\n",
        "\n",
        "# Process the inference results\n",
        "for result in results:\n",
        "    if result.masks is not None:\n",
        "        # Iterate through masks and boxes\n",
        "        for mask, box in zip(result.masks.xy, result.boxes.xyxy):\n",
        "            # Assign a unique ID to the current instance\n",
        "            instance_id = instance_id_counter\n",
        "            instance_id_counter += 1\n",
        "\n",
        "            # Extract bounding box coordinates and calculate area\n",
        "            x1, y1, x2, y2 = box.tolist()\n",
        "            area = (x2 - x1) * (y2 - y1)\n",
        "\n",
        "            # Store the instance information\n",
        "            instance_info = {\n",
        "                \"instance_id\": instance_id,\n",
        "                \"bbox\": box.tolist(),  # Convert bounding box tensor to list\n",
        "                \"area\": area, # Store the calculated area\n",
        "                \"segmentation_mask\": mask.tolist(),  # Convert mask tensor to list\n",
        "            }\n",
        "            segmented_instances.append(instance_info)\n",
        "\n",
        "# Display the first few processed instances to verify\n",
        "if segmented_instances:\n",
        "    print(\"Processed segmented instances (first 5):\")\n",
        "    for i in range(min(5, len(segmented_instances))):\n",
        "        print(segmented_instances[i])\n",
        "else:\n",
        "    print(\"No segmented instances found.\")"
      ],
      "execution_count": 19,
      "outputs": [
        {
          "output_type": "stream",
          "name": "stdout",
          "text": [
            "\n",
            "image 1/1 /content/test/img-7.jpg: 448x640 35 rojos, 15.7ms\n",
            "Speed: 3.6ms preprocess, 15.7ms inference, 3.5ms postprocess per image at shape (1, 3, 448, 640)\n",
            "Processed segmented instances (first 5):\n",
            "{'instance_id': 0, 'bbox': [1044.722900390625, 513.4241943359375, 1100.890625, 568.6109619140625], 'area': 3099.71516340971, 'segmentation_mask': [[1054.6875, 514.0625], [1054.6875, 521.09375], [1052.34375, 523.4375], [1045.3125, 523.4375], [1045.3125, 577.34375], [1073.4375, 577.34375], [1073.4375, 567.96875], [1075.78125, 565.625], [1078.125, 565.625], [1080.46875, 563.28125], [1082.8125, 563.28125], [1085.15625, 560.9375], [1087.5, 560.9375], [1092.1875, 556.25], [1092.1875, 553.90625], [1096.875, 549.21875], [1096.875, 546.875], [1101.5625, 542.1875], [1108.59375, 542.1875], [1108.59375, 528.125], [1101.5625, 528.125], [1096.875, 523.4375], [1096.875, 514.0625]]}\n",
            "{'instance_id': 1, 'bbox': [1219.19140625, 119.42292785644531, 1328.5758056640625, 218.51394653320312], 'area': 10839.011565284804, 'segmentation_mask': [[1258.59375, 120.31249237060547], [1258.59375, 127.34374237060547], [1256.25, 129.6875], [1253.90625, 129.6875], [1251.5625, 132.03125], [1249.21875, 132.03125], [1244.53125, 136.71875], [1242.1875, 136.71875], [1239.84375, 139.0625], [1237.5, 139.0625], [1232.8125, 143.75], [1223.4375, 143.75], [1223.4375, 197.65625], [1232.8125, 197.65625], [1244.53125, 209.375], [1246.875, 209.375], [1249.21875, 211.71875], [1251.5625, 211.71875], [1253.90625, 214.0625], [1256.25, 214.0625], [1258.59375, 216.40625], [1263.28125, 216.40625], [1265.625, 218.75], [1289.0625, 218.75], [1291.40625, 216.40625], [1296.09375, 216.40625], [1298.4375, 214.0625], [1300.78125, 214.0625], [1303.125, 211.71875], [1305.46875, 211.71875], [1321.875, 195.3125], [1321.875, 192.96875], [1326.5625, 188.28125], [1333.59375, 188.28125], [1333.59375, 150.78125], [1326.5625, 150.78125], [1324.21875, 148.4375], [1324.21875, 146.09375], [1321.875, 143.75], [1321.875, 141.40625], [1319.53125, 139.0625], [1319.53125, 136.71875], [1312.5, 129.6875], [1312.5, 120.31249237060547]]}\n",
            "{'instance_id': 2, 'bbox': [1124.080078125, 537.4740600585938, 1174.96337890625, 586.173828125], 'area': 2478.004946500063, 'segmentation_mask': [[1120.3125, 542.1875], [1120.3125, 577.34375], [1129.6875, 577.34375], [1134.375, 582.03125], [1139.0625, 582.03125], [1141.40625, 584.375], [1167.1875, 584.375], [1171.875, 579.6875], [1171.875, 577.34375], [1174.21875, 575.0], [1174.21875, 572.65625], [1176.5625, 570.3125], [1183.59375, 570.3125], [1183.59375, 560.9375], [1176.5625, 560.9375], [1174.21875, 558.59375], [1174.21875, 556.25], [1171.875, 553.90625], [1171.875, 551.5625], [1169.53125, 549.21875], [1169.53125, 542.1875]]}\n",
            "{'instance_id': 3, 'bbox': [0.25727301836013794, 540.1212158203125, 62.48594284057617, 636.4464111328125], 'area': 5994.188774662034, 'segmentation_mask': [[4.6875, 542.1875], [4.6875, 633.59375], [14.0625, 633.59375], [18.75, 628.90625], [21.09375, 628.90625], [23.4375, 626.5625], [25.78125, 626.5625], [28.125, 624.21875], [30.46875, 624.21875], [37.5, 617.1875], [39.84375, 617.1875], [44.53125, 612.5], [44.53125, 610.15625], [56.25, 598.4375], [56.25, 596.09375], [60.9375, 591.40625], [67.96875, 591.40625], [67.96875, 563.28125], [60.9375, 563.28125], [56.25, 558.59375], [56.25, 556.25], [51.5625, 551.5625], [51.5625, 542.1875]]}\n",
            "{'instance_id': 4, 'bbox': [1127.314453125, 586.1817016601562, 1177.3599853515625, 643.7600708007812], 'area': 2881.54012838006, 'segmentation_mask': [[1129.6875, 589.0625], [1129.6875, 633.59375], [1136.71875, 633.59375], [1141.40625, 638.28125], [1143.75, 638.28125], [1146.09375, 640.625], [1148.4375, 640.625], [1153.125, 645.3125], [1153.125, 652.34375], [1157.8125, 652.34375], [1157.8125, 645.3125], [1160.15625, 642.96875], [1162.5, 642.96875], [1164.84375, 640.625], [1167.1875, 640.625], [1167.1875, 638.28125], [1171.875, 633.59375], [1171.875, 631.25], [1176.5625, 626.5625], [1183.59375, 626.5625], [1183.59375, 612.5], [1176.5625, 612.5], [1171.875, 607.8125], [1171.875, 603.125], [1169.53125, 600.78125], [1169.53125, 598.4375], [1167.1875, 596.09375], [1167.1875, 589.0625]]}\n"
          ]
        }
      ]
    },
    {
      "cell_type": "markdown",
      "metadata": {
        "id": "815ef367"
      },
      "source": [
        "**Reasoning**:\n",
        "The previous command failed because the image file was not found at the specified path. I need to confirm the correct path to the image within the 'test' folder and then re-execute the inference and processing steps.\n",
        "\n"
      ]
    },
    {
      "cell_type": "code",
      "metadata": {
        "colab": {
          "base_uri": "https://localhost:8080/"
        },
        "id": "fytqryxw7bAk",
        "outputId": "e61d8051-501a-48b2-a3b4-ebd2842c7097"
      },
      "source": [
        "import os\n",
        "\n",
        "# Define the path to the test folder\n",
        "test_folder = 'test'\n",
        "\n",
        "# Define the image name\n",
        "image_name = 'img-7.jpg'\n",
        "\n",
        "# Construct the full image path\n",
        "image_path = os.path.join(test_folder, image_name)\n",
        "\n",
        "# Verify if the image file exists\n",
        "if not os.path.exists(image_path):\n",
        "    print(f\"Error: Image file not found at {image_path}\")\n",
        "else:\n",
        "    print(f\"Analyzing image: {image_path}\")\n",
        "    # Perform inference on the image path\n",
        "    results = model.predict(image_path)\n",
        "\n",
        "    # Initialize list for segmented instances and instance ID counter\n",
        "    segmented_instances = []\n",
        "    instance_id_counter = 0\n",
        "\n",
        "    # Process the inference results\n",
        "    for result in results:\n",
        "        if result.masks is not None:\n",
        "            # Iterate through masks and boxes\n",
        "            for mask, box in zip(result.masks.xy, result.boxes.xyxy):\n",
        "                # Assign a unique ID to the current instance\n",
        "                instance_id = instance_id_counter\n",
        "                instance_id_counter += 1\n",
        "\n",
        "                # Extract bounding box coordinates and calculate area\n",
        "                x1, y1, x2, y2 = box.tolist()\n",
        "                area = (x2 - x1) * (y2 - y1)\n",
        "\n",
        "                # Store the instance information\n",
        "                instance_info = {\n",
        "                    \"instance_id\": instance_id,\n",
        "                    \"bbox\": box.tolist(),  # Convert bounding box tensor to list\n",
        "                    \"area\": area, # Store the calculated area\n",
        "                    \"segmentation_mask\": mask.tolist(),  # Convert mask tensor to list\n",
        "                }\n",
        "                segmented_instances.append(instance_info)\n",
        "\n",
        "    # Display the first few processed instances to verify\n",
        "    if segmented_instances:\n",
        "        print(\"Processed segmented instances (first 5):\")\n",
        "        for i in range(min(5, len(segmented_instances))):\n",
        "            print(segmented_instances[i])\n",
        "    else:\n",
        "        print(\"No segmented instances found.\")"
      ],
      "execution_count": 20,
      "outputs": [
        {
          "output_type": "stream",
          "name": "stdout",
          "text": [
            "Analyzing image: test/img-7.jpg\n",
            "\n",
            "image 1/1 /content/test/img-7.jpg: 448x640 35 rojos, 16.4ms\n",
            "Speed: 2.5ms preprocess, 16.4ms inference, 3.7ms postprocess per image at shape (1, 3, 448, 640)\n",
            "Processed segmented instances (first 5):\n",
            "{'instance_id': 0, 'bbox': [1044.722900390625, 513.4241943359375, 1100.890625, 568.6109619140625], 'area': 3099.71516340971, 'segmentation_mask': [[1054.6875, 514.0625], [1054.6875, 521.09375], [1052.34375, 523.4375], [1045.3125, 523.4375], [1045.3125, 577.34375], [1073.4375, 577.34375], [1073.4375, 567.96875], [1075.78125, 565.625], [1078.125, 565.625], [1080.46875, 563.28125], [1082.8125, 563.28125], [1085.15625, 560.9375], [1087.5, 560.9375], [1092.1875, 556.25], [1092.1875, 553.90625], [1096.875, 549.21875], [1096.875, 546.875], [1101.5625, 542.1875], [1108.59375, 542.1875], [1108.59375, 528.125], [1101.5625, 528.125], [1096.875, 523.4375], [1096.875, 514.0625]]}\n",
            "{'instance_id': 1, 'bbox': [1219.19140625, 119.42292785644531, 1328.5758056640625, 218.51394653320312], 'area': 10839.011565284804, 'segmentation_mask': [[1258.59375, 120.31249237060547], [1258.59375, 127.34374237060547], [1256.25, 129.6875], [1253.90625, 129.6875], [1251.5625, 132.03125], [1249.21875, 132.03125], [1244.53125, 136.71875], [1242.1875, 136.71875], [1239.84375, 139.0625], [1237.5, 139.0625], [1232.8125, 143.75], [1223.4375, 143.75], [1223.4375, 197.65625], [1232.8125, 197.65625], [1244.53125, 209.375], [1246.875, 209.375], [1249.21875, 211.71875], [1251.5625, 211.71875], [1253.90625, 214.0625], [1256.25, 214.0625], [1258.59375, 216.40625], [1263.28125, 216.40625], [1265.625, 218.75], [1289.0625, 218.75], [1291.40625, 216.40625], [1296.09375, 216.40625], [1298.4375, 214.0625], [1300.78125, 214.0625], [1303.125, 211.71875], [1305.46875, 211.71875], [1321.875, 195.3125], [1321.875, 192.96875], [1326.5625, 188.28125], [1333.59375, 188.28125], [1333.59375, 150.78125], [1326.5625, 150.78125], [1324.21875, 148.4375], [1324.21875, 146.09375], [1321.875, 143.75], [1321.875, 141.40625], [1319.53125, 139.0625], [1319.53125, 136.71875], [1312.5, 129.6875], [1312.5, 120.31249237060547]]}\n",
            "{'instance_id': 2, 'bbox': [1124.080078125, 537.4740600585938, 1174.96337890625, 586.173828125], 'area': 2478.004946500063, 'segmentation_mask': [[1120.3125, 542.1875], [1120.3125, 577.34375], [1129.6875, 577.34375], [1134.375, 582.03125], [1139.0625, 582.03125], [1141.40625, 584.375], [1167.1875, 584.375], [1171.875, 579.6875], [1171.875, 577.34375], [1174.21875, 575.0], [1174.21875, 572.65625], [1176.5625, 570.3125], [1183.59375, 570.3125], [1183.59375, 560.9375], [1176.5625, 560.9375], [1174.21875, 558.59375], [1174.21875, 556.25], [1171.875, 553.90625], [1171.875, 551.5625], [1169.53125, 549.21875], [1169.53125, 542.1875]]}\n",
            "{'instance_id': 3, 'bbox': [0.25727301836013794, 540.1212158203125, 62.48594284057617, 636.4464111328125], 'area': 5994.188774662034, 'segmentation_mask': [[4.6875, 542.1875], [4.6875, 633.59375], [14.0625, 633.59375], [18.75, 628.90625], [21.09375, 628.90625], [23.4375, 626.5625], [25.78125, 626.5625], [28.125, 624.21875], [30.46875, 624.21875], [37.5, 617.1875], [39.84375, 617.1875], [44.53125, 612.5], [44.53125, 610.15625], [56.25, 598.4375], [56.25, 596.09375], [60.9375, 591.40625], [67.96875, 591.40625], [67.96875, 563.28125], [60.9375, 563.28125], [56.25, 558.59375], [56.25, 556.25], [51.5625, 551.5625], [51.5625, 542.1875]]}\n",
            "{'instance_id': 4, 'bbox': [1127.314453125, 586.1817016601562, 1177.3599853515625, 643.7600708007812], 'area': 2881.54012838006, 'segmentation_mask': [[1129.6875, 589.0625], [1129.6875, 633.59375], [1136.71875, 633.59375], [1141.40625, 638.28125], [1143.75, 638.28125], [1146.09375, 640.625], [1148.4375, 640.625], [1153.125, 645.3125], [1153.125, 652.34375], [1157.8125, 652.34375], [1157.8125, 645.3125], [1160.15625, 642.96875], [1162.5, 642.96875], [1164.84375, 640.625], [1167.1875, 640.625], [1167.1875, 638.28125], [1171.875, 633.59375], [1171.875, 631.25], [1176.5625, 626.5625], [1183.59375, 626.5625], [1183.59375, 612.5], [1176.5625, 612.5], [1171.875, 607.8125], [1171.875, 603.125], [1169.53125, 600.78125], [1169.53125, 598.4375], [1167.1875, 596.09375], [1167.1875, 589.0625]]}\n"
          ]
        }
      ]
    }
  ],
  "metadata": {
    "accelerator": "GPU",
    "colab": {
      "name": "Ultralytics HUB",
      "provenance": []
    },
    "kernelspec": {
      "display_name": "Python 3",
      "name": "python3"
    },
    "language_info": {
      "name": "python"
    }
  },
  "nbformat": 4,
  "nbformat_minor": 0
}